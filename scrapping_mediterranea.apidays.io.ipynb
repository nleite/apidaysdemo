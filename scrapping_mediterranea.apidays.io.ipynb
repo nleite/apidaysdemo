{
 "metadata": {
  "name": "",
  "signature": "sha256:4e201daedcabdde20b483177c136c5aece431631a103b72984b753d9cfcac68f"
 },
 "nbformat": 3,
 "nbformat_minor": 0,
 "worksheets": [
  {
   "cells": [
    {
     "cell_type": "heading",
     "level": 1,
     "metadata": {},
     "source": [
      "Scrapping API Days Mediterranea"
     ]
    },
    {
     "cell_type": "markdown",
     "metadata": {},
     "source": [
      "Simple scrapping script that will get me all the speakers at this conference and add it to MongoDB `apidays.speakers` collection"
     ]
    },
    {
     "cell_type": "code",
     "collapsed": false,
     "input": [
      "from bs4 import BeautifulSoup as bs #not bs of bullsh***!\n",
      "from pymongo import MongoClient\n",
      "import requests\n",
      "#lets parse the previous request\n",
      "uri = 'http://mediterranea.apidays.io/'\n",
      "r = requests.get(uri)\n",
      "#parse this html text with bs\n",
      "soup = bs(r.text)\n",
      "\n",
      "div_speakers = soup.find(id='speakers')\n",
      "\n",
      "speakers = []\n",
      "\n",
      "for a in div_speakers.find_all('a'):\n",
      "    #imgr = requests.get(uri+a.img['src'])\n",
      "    # we could download the file and keep it on the database but... I'm lazy\n",
      "    if a.img is None: \n",
      "        break\n",
      "    doc = { 'name': a.img['alt'].encode('utf-8'), 'url': a['href'], 'img': uri+a.img['src'] } \n",
      "    speakers.append(doc)\n",
      "    \n",
      "collection = MongoClient()['apidays']['speakers']\n",
      "\n",
      "write_result = collection.insert(speakers)\n",
      "\n",
      "print write_result;\n",
      "\n"
     ],
     "language": "python",
     "metadata": {},
     "outputs": [
      {
       "output_type": "stream",
       "stream": "stdout",
       "text": [
        "[ObjectId('554a24f54cc75f3e17b01c03'), ObjectId('554a24f54cc75f3e17b01c04'), ObjectId('554a24f54cc75f3e17b01c05'), ObjectId('554a24f54cc75f3e17b01c06'), ObjectId('554a24f54cc75f3e17b01c07'), ObjectId('554a24f54cc75f3e17b01c08'), ObjectId('554a24f54cc75f3e17b01c09'), ObjectId('554a24f54cc75f3e17b01c0a'), ObjectId('554a24f54cc75f3e17b01c0b'), ObjectId('554a24f54cc75f3e17b01c0c'), ObjectId('554a24f54cc75f3e17b01c0d'), ObjectId('554a24f54cc75f3e17b01c0e'), ObjectId('554a24f54cc75f3e17b01c0f'), ObjectId('554a24f54cc75f3e17b01c10'), ObjectId('554a24f54cc75f3e17b01c11'), ObjectId('554a24f54cc75f3e17b01c12'), ObjectId('554a24f54cc75f3e17b01c13'), ObjectId('554a24f54cc75f3e17b01c14'), ObjectId('554a24f54cc75f3e17b01c15'), ObjectId('554a24f54cc75f3e17b01c16'), ObjectId('554a24f54cc75f3e17b01c17'), ObjectId('554a24f54cc75f3e17b01c18'), ObjectId('554a24f54cc75f3e17b01c19'), ObjectId('554a24f54cc75f3e17b01c1a'), ObjectId('554a24f54cc75f3e17b01c1b'), ObjectId('554a24f54cc75f3e17b01c1c'), ObjectId('554a24f54cc75f3e17b01c1d'), ObjectId('554a24f54cc75f3e17b01c1e'), ObjectId('554a24f54cc75f3e17b01c1f'), ObjectId('554a24f54cc75f3e17b01c20'), ObjectId('554a24f54cc75f3e17b01c21'), ObjectId('554a24f54cc75f3e17b01c22'), ObjectId('554a24f54cc75f3e17b01c23'), ObjectId('554a24f54cc75f3e17b01c24'), ObjectId('554a24f54cc75f3e17b01c25'), ObjectId('554a24f54cc75f3e17b01c26'), ObjectId('554a24f54cc75f3e17b01c27'), ObjectId('554a24f54cc75f3e17b01c28'), ObjectId('554a24f54cc75f3e17b01c29'), ObjectId('554a24f54cc75f3e17b01c2a'), ObjectId('554a24f54cc75f3e17b01c2b'), ObjectId('554a24f54cc75f3e17b01c2c'), ObjectId('554a24f54cc75f3e17b01c2d'), ObjectId('554a24f54cc75f3e17b01c2e')]\n"
       ]
      }
     ],
     "prompt_number": 38
    },
    {
     "cell_type": "code",
     "collapsed": false,
     "input": [],
     "language": "python",
     "metadata": {},
     "outputs": []
    }
   ],
   "metadata": {}
  }
 ]
}